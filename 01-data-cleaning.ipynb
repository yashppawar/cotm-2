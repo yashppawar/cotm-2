{
 "cells": [
  {
   "cell_type": "markdown",
   "id": "abc67fd7",
   "metadata": {},
   "source": [
    "# Data-Cleaning\n",
    "![data-cleaning](assets/data-cleaning.png)\n",
    "\n",
    "Data cleaning is a very important part of the process, if we have outliners or null values it can affect the performance by a lot.\n",
    "\n",
    "### In this notebook we will be removing the outliers and null values and if we can fill some we will try to fill them\n",
    "\n",
    "[Data](https://www.kaggle.com/samextensibleenergy/agricultural-commodity-dataset) being used in this notebook is from [Kaggle](https://www.kaggle.com/) with some added noise, [Agricultural_Commodity_Dataset](https://www.kaggle.com/samextensibleenergy/agricultural-commodity-dataset) by [Sam Paul](https://www.kaggle.com/samextensibleenergy)"
   ]
  },
  {
   "cell_type": "code",
   "execution_count": 1,
   "id": "e4128d75",
   "metadata": {},
   "outputs": [],
   "source": [
    "# Standard imports\n",
    "import numpy as np\n",
    "import pandas as pd\n",
    "import seaborn as sns\n",
    "import matplotlib.pyplot as plt\n",
    "%matplotlib inline"
   ]
  },
  {
   "cell_type": "code",
   "execution_count": 2,
   "id": "1f853b20",
   "metadata": {},
   "outputs": [
    {
     "data": {
      "text/html": [
       "<div>\n",
       "<style scoped>\n",
       "    .dataframe tbody tr th:only-of-type {\n",
       "        vertical-align: middle;\n",
       "    }\n",
       "\n",
       "    .dataframe tbody tr th {\n",
       "        vertical-align: top;\n",
       "    }\n",
       "\n",
       "    .dataframe thead th {\n",
       "        text-align: right;\n",
       "    }\n",
       "</style>\n",
       "<table border=\"1\" class=\"dataframe\">\n",
       "  <thead>\n",
       "    <tr style=\"text-align: right;\">\n",
       "      <th></th>\n",
       "      <th>APMC</th>\n",
       "      <th>Commodity</th>\n",
       "      <th>Year</th>\n",
       "      <th>Month</th>\n",
       "      <th>arrivals_in_qtl</th>\n",
       "      <th>min_price</th>\n",
       "      <th>max_price</th>\n",
       "      <th>modal_price</th>\n",
       "      <th>date</th>\n",
       "      <th>district_name</th>\n",
       "      <th>state_name</th>\n",
       "    </tr>\n",
       "  </thead>\n",
       "  <tbody>\n",
       "    <tr>\n",
       "      <th>0</th>\n",
       "      <td>Ahmednagar</td>\n",
       "      <td>Bajri</td>\n",
       "      <td>2015</td>\n",
       "      <td>April</td>\n",
       "      <td>79.0</td>\n",
       "      <td>1406.0</td>\n",
       "      <td>1538.0</td>\n",
       "      <td>1463.0</td>\n",
       "      <td>2015-04-01</td>\n",
       "      <td>Ahmadnagar</td>\n",
       "      <td>Maharashtra</td>\n",
       "    </tr>\n",
       "    <tr>\n",
       "      <th>1</th>\n",
       "      <td>Ahmednagar</td>\n",
       "      <td>Bajri</td>\n",
       "      <td>2016</td>\n",
       "      <td>April</td>\n",
       "      <td>106.0</td>\n",
       "      <td>1788.0</td>\n",
       "      <td>1925.0</td>\n",
       "      <td>1875.0</td>\n",
       "      <td>2016-04-01</td>\n",
       "      <td>Ahmadnagar</td>\n",
       "      <td>Maharashtra</td>\n",
       "    </tr>\n",
       "    <tr>\n",
       "      <th>2</th>\n",
       "      <td>Ahmednagar</td>\n",
       "      <td>Wheat(Husked)</td>\n",
       "      <td>2015</td>\n",
       "      <td>April</td>\n",
       "      <td>1253.0</td>\n",
       "      <td>1572.0</td>\n",
       "      <td>1890.0</td>\n",
       "      <td>1731.0</td>\n",
       "      <td>2015-04-01</td>\n",
       "      <td>Ahmadnagar</td>\n",
       "      <td>Maharashtra</td>\n",
       "    </tr>\n",
       "    <tr>\n",
       "      <th>3</th>\n",
       "      <td>Ahmednagar</td>\n",
       "      <td>Wheat(Husked)</td>\n",
       "      <td>2016</td>\n",
       "      <td>April</td>\n",
       "      <td>387.0</td>\n",
       "      <td>1750.0</td>\n",
       "      <td>2220.0</td>\n",
       "      <td>1999.0</td>\n",
       "      <td>2016-04-01</td>\n",
       "      <td>Ahmadnagar</td>\n",
       "      <td>Maharashtra</td>\n",
       "    </tr>\n",
       "    <tr>\n",
       "      <th>4</th>\n",
       "      <td>Ahmednagar</td>\n",
       "      <td>Sorgum(Jawar)</td>\n",
       "      <td>2015</td>\n",
       "      <td>April</td>\n",
       "      <td>3825.0</td>\n",
       "      <td>1600.0</td>\n",
       "      <td>2200.0</td>\n",
       "      <td>1900.0</td>\n",
       "      <td>2015-04-01</td>\n",
       "      <td>Ahmadnagar</td>\n",
       "      <td>Maharashtra</td>\n",
       "    </tr>\n",
       "  </tbody>\n",
       "</table>\n",
       "</div>"
      ],
      "text/plain": [
       "         APMC      Commodity  Year  Month  arrivals_in_qtl  min_price  \\\n",
       "0  Ahmednagar          Bajri  2015  April             79.0     1406.0   \n",
       "1  Ahmednagar          Bajri  2016  April            106.0     1788.0   \n",
       "2  Ahmednagar  Wheat(Husked)  2015  April           1253.0     1572.0   \n",
       "3  Ahmednagar  Wheat(Husked)  2016  April            387.0     1750.0   \n",
       "4  Ahmednagar  Sorgum(Jawar)  2015  April           3825.0     1600.0   \n",
       "\n",
       "   max_price  modal_price       date district_name   state_name  \n",
       "0     1538.0       1463.0 2015-04-01    Ahmadnagar  Maharashtra  \n",
       "1     1925.0       1875.0 2016-04-01    Ahmadnagar  Maharashtra  \n",
       "2     1890.0       1731.0 2015-04-01    Ahmadnagar  Maharashtra  \n",
       "3     2220.0       1999.0 2016-04-01    Ahmadnagar  Maharashtra  \n",
       "4     2200.0       1900.0 2015-04-01    Ahmadnagar  Maharashtra  "
      ]
     },
     "execution_count": 2,
     "metadata": {},
     "output_type": "execute_result"
    }
   ],
   "source": [
    "# read the data\n",
    "data = pd.read_csv('data/data_cmo_noisy.csv', parse_dates=['date'])\n",
    "data.head()"
   ]
  },
  {
   "cell_type": "code",
   "execution_count": 3,
   "id": "0cca95c6",
   "metadata": {},
   "outputs": [
    {
     "name": "stdout",
     "output_type": "stream",
     "text": [
      "<class 'pandas.core.frame.DataFrame'>\n",
      "RangeIndex: 62429 entries, 0 to 62428\n",
      "Data columns (total 11 columns):\n",
      " #   Column           Non-Null Count  Dtype         \n",
      "---  ------           --------------  -----         \n",
      " 0   APMC             62379 non-null  object        \n",
      " 1   Commodity        62379 non-null  object        \n",
      " 2   Year             62429 non-null  int64         \n",
      " 3   Month            62429 non-null  object        \n",
      " 4   arrivals_in_qtl  62379 non-null  float64       \n",
      " 5   min_price        62379 non-null  float64       \n",
      " 6   max_price        62379 non-null  float64       \n",
      " 7   modal_price      62379 non-null  float64       \n",
      " 8   date             62429 non-null  datetime64[ns]\n",
      " 9   district_name    62379 non-null  object        \n",
      " 10  state_name       62379 non-null  object        \n",
      "dtypes: datetime64[ns](1), float64(4), int64(1), object(5)\n",
      "memory usage: 5.2+ MB\n"
     ]
    }
   ],
   "source": [
    "data.info()"
   ]
  },
  {
   "cell_type": "code",
   "execution_count": 4,
   "id": "3f98d787",
   "metadata": {},
   "outputs": [
    {
     "data": {
      "text/plain": [
       "APMC               50\n",
       "Commodity          50\n",
       "Year                0\n",
       "Month               0\n",
       "arrivals_in_qtl    50\n",
       "min_price          50\n",
       "max_price          50\n",
       "modal_price        50\n",
       "date                0\n",
       "district_name      50\n",
       "state_name         50\n",
       "dtype: int64"
      ]
     },
     "execution_count": 4,
     "metadata": {},
     "output_type": "execute_result"
    }
   ],
   "source": [
    "data.isna().sum() # check for the null values"
   ]
  },
  {
   "cell_type": "code",
   "execution_count": 5,
   "id": "a89692fc",
   "metadata": {},
   "outputs": [
    {
     "data": {
      "text/plain": [
       "array(['Maharashtra', nan], dtype=object)"
      ]
     },
     "execution_count": 5,
     "metadata": {},
     "output_type": "execute_result"
    }
   ],
   "source": [
    "data.state_name.unique()"
   ]
  },
  {
   "cell_type": "code",
   "execution_count": 6,
   "id": "2d79f68e",
   "metadata": {},
   "outputs": [],
   "source": [
    "# we see that the state only has 'Maharashtra', so we will fill the null values with 'Maharashtra'\n",
    "data.state_name.fillna('Maharashtra', inplace=True)"
   ]
  },
  {
   "cell_type": "code",
   "execution_count": 7,
   "id": "595a55b8",
   "metadata": {},
   "outputs": [
    {
     "data": {
      "text/plain": [
       "0"
      ]
     },
     "execution_count": 7,
     "metadata": {},
     "output_type": "execute_result"
    }
   ],
   "source": [
    "data.state_name.isna().sum()  # checking if there are any null values remaining"
   ]
  },
  {
   "cell_type": "markdown",
   "id": "946bd22c",
   "metadata": {},
   "source": [
    "## The other features are a bit difficult to fill, so we will just drop them"
   ]
  },
  {
   "cell_type": "code",
   "execution_count": 10,
   "id": "3218e9dd",
   "metadata": {},
   "outputs": [],
   "source": [
    "data.dropna(inplace=True)  # drop the rows where null values are present"
   ]
  },
  {
   "cell_type": "code",
   "execution_count": 11,
   "id": "3ff684ea",
   "metadata": {},
   "outputs": [
    {
     "name": "stdout",
     "output_type": "stream",
     "text": [
      "<class 'pandas.core.frame.DataFrame'>\n",
      "Int64Index: 62079 entries, 0 to 62428\n",
      "Data columns (total 11 columns):\n",
      " #   Column           Non-Null Count  Dtype         \n",
      "---  ------           --------------  -----         \n",
      " 0   APMC             62079 non-null  object        \n",
      " 1   Commodity        62079 non-null  object        \n",
      " 2   Year             62079 non-null  int64         \n",
      " 3   Month            62079 non-null  object        \n",
      " 4   arrivals_in_qtl  62079 non-null  float64       \n",
      " 5   min_price        62079 non-null  float64       \n",
      " 6   max_price        62079 non-null  float64       \n",
      " 7   modal_price      62079 non-null  float64       \n",
      " 8   date             62079 non-null  datetime64[ns]\n",
      " 9   district_name    62079 non-null  object        \n",
      " 10  state_name       62079 non-null  object        \n",
      "dtypes: datetime64[ns](1), float64(4), int64(1), object(5)\n",
      "memory usage: 5.7+ MB\n"
     ]
    }
   ],
   "source": [
    "data.info()  # now we have 62K rows with no null values"
   ]
  },
  {
   "cell_type": "markdown",
   "id": "78c9423a",
   "metadata": {},
   "source": [
    "# Checking for outliers"
   ]
  },
  {
   "cell_type": "code",
   "execution_count": 13,
   "id": "cf133673",
   "metadata": {},
   "outputs": [
    {
     "data": {
      "image/png": "[encoded data removed]",
      "text/plain": [
       "<Figure size 432x288 with 1 Axes>"
      ]
     },
     "metadata": {
      "needs_background": "light"
     },
     "output_type": "display_data"
    }
   ],
   "source": [
    "# lets plot max_price with min_price\n",
    "data.plot(kind='scatter', x='min_price', y='max_price');"
   ]
  },
  {
   "cell_type": "code",
   "execution_count": 16,
   "id": "aa01cd83",
   "metadata": {},
   "outputs": [
    {
     "data": {
      "image/png": "[encoded data removed]",
      "text/plain": [
       "<Figure size 360x360 with 1 Axes>"
      ]
     },
     "metadata": {
      "needs_background": "light"
     },
     "output_type": "display_data"
    }
   ],
   "source": [
    "# we see some points which are outliers\n",
    "# let's try to check if this will affect our model.\n",
    "sns.lmplot(data=data, x='min_price', y='max_price');"
   ]
  },
  {
   "cell_type": "code",
   "execution_count": 18,
   "id": "f9fbb5a5",
   "metadata": {},
   "outputs": [
    {
     "data": {
      "image/png": "[encoded data removed]",
      "text/plain": [
       "<Figure size 360x360 with 1 Axes>"
      ]
     },
     "metadata": {
      "needs_background": "light"
     },
     "output_type": "display_data"
    }
   ],
   "source": [
    "# we see that those outliers can affect the model by a lot, so lets drop them too\n",
    "data = data[(data.min_price < 500000) & (data.max_price < 500000)]# removing all the values which are more than 500K\n",
    "# lets try if this works\n",
    "sns.lmplot(data=data, x='min_price', y='max_price', line_kws={'color': 'red'});"
   ]
  },
  {
   "cell_type": "markdown",
   "id": "66aa89d7",
   "metadata": {},
   "source": [
    "## This looks a lot better, let's save the data"
   ]
  },
  {
   "cell_type": "code",
   "execution_count": 20,
   "id": "c3eda9f3",
   "metadata": {},
   "outputs": [],
   "source": [
    "data.to_csv('data/data_cmo_clean.csv', index=False)  # save the data"
   ]
  },
  {
   "cell_type": "markdown",
   "id": "b67b254d",
   "metadata": {},
   "source": [
    "## Now let's move to the next step "
   ]
  }
 ],
 "metadata": {
  "kernelspec": {
   "display_name": "Python 3",
   "language": "python",
   "name": "python3"
  },
  "language_info": {
   "codemirror_mode": {
    "name": "ipython",
    "version": 3
   },
   "file_extension": ".py",
   "mimetype": "text/x-python",
   "name": "python",
   "nbconvert_exporter": "python",
   "pygments_lexer": "ipython3",
   "version": "3.8.8"
  }
 },
 "nbformat": 4,
 "nbformat_minor": 5
}
